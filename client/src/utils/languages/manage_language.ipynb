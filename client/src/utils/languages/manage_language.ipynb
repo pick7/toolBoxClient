{
 "cells": [
  {
   "cell_type": "code",
   "execution_count": 4,
   "metadata": {},
   "outputs": [],
   "source": [
    "import json\n",
    "import os\n",
    "import pandas as pd\n",
    "df = pd.read_csv('./languages.csv')\n",
    "columns = list(df.columns)\n",
    "columns.remove('key')\n",
    "dic = {}\n",
    "for file_name in columns:\n",
    "    dic[file_name] = {}\n",
    "    for index, row in df.iterrows():\n",
    "        dic[file_name][row['key']] = row[file_name]\n",
    "for key, value in dic.items():\n",
    "    with open(key + '.json', 'w') as f:\n",
    "        json.dump(value, f, indent=4)\n",
    "columns = list(df.columns)\n",
    "columns.remove('key')\n",
    "dic = {}\n",
    "for file_name in columns:\n",
    "    dic[file_name] = {}\n",
    "    for index, row in df.iterrows():\n",
    "        dic[file_name][row['key']] = row[file_name]\n",
    "for key, value in dic.items():\n",
    "    with open(key + '.json', 'w') as f:\n",
    "        json.dump(value, f, indent=4)\n",
    "        "
   ]
  },
  {
   "cell_type": "code",
   "execution_count": null,
   "metadata": {},
   "outputs": [],
   "source": []
  }
 ],
 "metadata": {
  "kernelspec": {
   "display_name": "base",
   "language": "python",
   "name": "python3"
  },
  "language_info": {
   "codemirror_mode": {
    "name": "ipython",
    "version": 3
   },
   "file_extension": ".py",
   "mimetype": "text/x-python",
   "name": "python",
   "nbconvert_exporter": "python",
   "pygments_lexer": "ipython3",
   "version": "3.8.18"
  }
 },
 "nbformat": 4,
 "nbformat_minor": 2
}
